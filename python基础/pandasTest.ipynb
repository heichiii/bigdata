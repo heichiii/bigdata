{
 "cells": [
  {
   "cell_type": "code",
   "id": "initial_id",
   "metadata": {
    "collapsed": true,
    "ExecuteTime": {
     "end_time": "2024-09-20T06:26:51.064277Z",
     "start_time": "2024-09-20T06:26:51.036651Z"
    }
   },
   "source": [
    "import pandas as pd\n",
    "\n",
    "a = [1, 2, 3]\n",
    "b =['a','b','c']\n",
    "myvar = pd.Series(a,name='myvar')\n",
    "var2 = pd.Series(b,name='var2')\n",
    "df=pd.DataFrame([myvar,var2])\n",
    "df2=pd.DataFrame(myvar)\n",
    "\n",
    "print(df)\n",
    "print(df2)"
   ],
   "outputs": [
    {
     "name": "stdout",
     "output_type": "stream",
     "text": [
      "       0  1  2\n",
      "myvar  1  2  3\n",
      "var2   a  b  c\n",
      "   myvar\n",
      "0      1\n",
      "1      2\n",
      "2      3\n"
     ]
    }
   ],
   "execution_count": 3
  }
 ],
 "metadata": {
  "kernelspec": {
   "display_name": "Python 3",
   "language": "python",
   "name": "python3"
  },
  "language_info": {
   "codemirror_mode": {
    "name": "ipython",
    "version": 2
   },
   "file_extension": ".py",
   "mimetype": "text/x-python",
   "name": "python",
   "nbconvert_exporter": "python",
   "pygments_lexer": "ipython2",
   "version": "2.7.6"
  }
 },
 "nbformat": 4,
 "nbformat_minor": 5
}
